{
 "cells": [
  {
   "cell_type": "markdown",
   "metadata": {},
   "source": [
    "# 靜態網頁的資料爬蟲策略\n",
    "\n",
    "\n",
    "* 了解靜態網頁的資料爬蟲策略\n",
    "* 認識適用於靜態網頁爬蟲的相關套件工具：Request\n",
    "* 認識適用於靜態網頁爬蟲的相關套件工具：BeatifulSoup"
   ]
  },
  {
   "cell_type": "markdown",
   "metadata": {},
   "source": [
    "## 作業目標\n",
    "\n",
    "利用 Request + BeatifulSoup 爬取下列兩個網站內容並解析：\n",
    "\n",
    "1. Dcared 網址： https://www.dcard.tw/f\n",
    "2. 知乎： https://www.zhihu.com/explore\n",
    "\n",
    "並且回答下面問題：\n",
    "\n",
    "1. Request 取回之後該怎麼取出資料，資料型態是什麼？\n",
    "2. 為什麼要使用 BeatifulSoup 處理？處理後的型態是什麼？\n",
    "3. 觀察一下知乎回來的資料好像有點怪怪的，該怎麼解決？"
   ]
  },
  {
   "cell_type": "markdown",
   "metadata": {},
   "source": [
    "### 1. Dcard 網址： https://www.dcard.tw/f"
   ]
  },
  {
   "cell_type": "code",
   "execution_count": 3,
   "metadata": {},
   "outputs": [],
   "source": [
    "import requests\n",
    "from bs4 import BeautifulSoup\n"
   ]
  },
  {
   "cell_type": "code",
   "execution_count": 4,
   "metadata": {},
   "outputs": [
    {
     "name": "stdout",
     "output_type": "stream",
     "text": [
      "<!DOCTYPE html>\n",
      "<!--[if lt IE 7]> <html class=\"no-js ie6 oldie\" lang=\"en-US\"> <![endif]-->\n",
      "<!--[if IE 7]>    <html class=\"no-js ie7 oldie\" lang=\"en-US\"> <![endif]-->\n",
      "<!--[if IE 8]>    <html class=\"no-js ie8 oldie\" lang=\"en-US\"> <![endif]-->\n",
      "<!--[if gt IE 8]><!--> <html class=\"no-js\" lang=\"en-US\"> <!--<![endif]-->\n",
      "<head>\n",
      "\n",
      "<title>Attention Required! | Cloudflare</title>\n",
      "\n",
      "<meta name=\"captcha-bypass\" id=\"captcha-bypass\" />\n",
      "<meta charset=\"UTF-8\" />\n",
      "<meta http-equiv=\"Content-Type\" content=\"text/html; charset=UTF-8\" />\n",
      "<meta http-equiv=\"X-UA-Compatible\" content=\"IE=Edge,chrome=1\" />\n",
      "<meta name=\"robots\" content=\"noindex, nofollow\" />\n",
      "<meta name=\"viewport\" content=\"width=device-width,initial-scale=1\" />\n",
      "<link rel=\"stylesheet\" id=\"cf_styles-css\" href=\"/cdn-cgi/styles/cf.errors.css\" type=\"text/css\" media=\"screen,projection\" />\n",
      "<!--[if lt IE 9]><link rel=\"stylesheet\" id='cf_styles-ie-css' href=\"/cdn-cgi/styles/cf.errors.ie.css\" type=\"text/css\" media=\"screen,projection\" /><![endif]-->\n",
      "<style type=\"text/css\">body{margin:0;padding:0}</style>\n",
      "\n",
      "\n",
      "<!--[if gte IE 10]><!-->\n",
      "<script>\n",
      "  if (!navigator.cookieEnabled) {\n",
      "    window.addEventListener('DOMContentLoaded', function () {\n",
      "      var cookieEl = document.getElementById('cookie-alert');\n",
      "      cookieEl.style.display = 'block';\n",
      "    })\n",
      "  }\n",
      "</script>\n",
      "<!--<![endif]-->\n",
      "\n",
      "\n",
      "  \n",
      "    <script type=\"text/javascript\">\n",
      "    //<![CDATA[\n",
      "    (function(){\n",
      "      window._cf_chl_opt={\n",
      "        cvId: \"2\",\n",
      "        cType: \"interactive\",\n",
      "        cNounce: \"96116\",\n",
      "        cRay: \"61f637a3ac5df075\",\n",
      "        cHash: \"161fc0e7f5fd9bb\",\n",
      "        cFPWv: \"b\",\n",
      "        cLt: \"n\",\n",
      "        cRq: {\n",
      "          ru: \"aHR0cHM6Ly93d3cuZGNhcmQudHcvZg==\",\n",
      "          ra: \"cHl0aG9uLXJlcXVlc3RzLzIuMjQuMA==\",\n",
      "          rm: \"R0VU\",\n",
      "          d: \"QDJdeXNQwyN5ktRbY8v5559uuyONNRUATjP7y4tVSXcfpIlfmdj9boK+WgcRMwJjpLtIeomSoUtObiu/DAI0SUeX/er4B+DQTVPV2bBOH0NqMjQFdtX5G8wdLneAPQoCJG7UvBxnhS6NUXdXtwgESvJ0+Gy7hQitvigXGbs6MalW6Bssmf62Peu58eWIkCZMapK+6Ux0TMChDYQiRpvJq3kOy6FkODBoz68ELvm6aTdKjoKZ9aMr3VX7Ztv3IV33q/fCixUm1M++7rrRrtvlKsCfYj6kTQV/I+Z6kZ4Bpt+UEhvBD0Xd6xxwJPXxH8JwvlJ6/0qGcQSD5Y/hPRilRK8LkEfizMwfRP5juBzNLQDibrDLpHNb/jsi/zxC716zmjVBsgGVCuyaDzPO/hZwizIzpzYqgGiOjVE81F5P2226UVjgmpPr3geIPgVIq10svswRzK4SF4W9HHsrR6NX+9jiS7NfxjFXlIT6nJrRPVz8waVnyPA4cyOZRGkk9fRg+fuarwHjsmGxwj1ciwDtBu1MAu3A24Q95HJh34Yh577tym70RcOyV0Wo4AI1ex8DHCR0LW+TSfiYqm9bSslfi+Fo+Wj/6dWIb0cYl0u8q9dq7MsZbfEM1K24dUcmsIjItm7Liih2GHqjr8Rs6RBGWqEsyQcp29TxDk5p/83JHo7Fgo5BpicGW2WofB8PsV25NBKip2lpK+HmteHVugcwitjUOYiJZSh8e85aULSO4x0zqFPjwfu+0F2TcM8wGoR6CP5MQM0mL/YBHZRzaT4CAUS1UdqHReTuqNir2GsaY+Ld8i4xkxQyDNCP6pwXlQlD\",\n",
      "          t: \"MTYxMjk2NDE2OC4yNjcwMDA=\",\n",
      "          m: \"qgb6WM8/uMWZ2BTihKhFHRDI38IQ5Sg0NWCiHTbNlv0=\",\n",
      "          i1: \"9ac+nbAfXU0AomQ2E5ld7w==\",\n",
      "          i2: \"1qWhs6FrlHiA9ZQ0ahJWRg==\",\n",
      "          uh: \"6AZv5/FBI8bCgQ115dPTZ5RPLfsmzGOqXp7x0al4Jbc=\",\n",
      "          hh: \"zRzOAigP6xcxnKf5snryJLVJgndZSARNtnIbgQqzl/Q=\",\n",
      "        }\n",
      "      };\n",
      "    }());\n",
      "    //]]>\n",
      "    </script>\n",
      "  \n",
      "\n",
      "<style type=\"text/css\">\n",
      "  #cf-wrapper #spinner {wi\n"
     ]
    }
   ],
   "source": [
    "url = 'https://www.dcard.tw/f'\n",
    "\n",
    "r = requests.get(url)\n",
    "\n",
    "r.encoding = 'utf-8'\n",
    "print(r.text[0:3000])"
   ]
  },
  {
   "cell_type": "code",
   "execution_count": 5,
   "metadata": {},
   "outputs": [
    {
     "name": "stdout",
     "output_type": "stream",
     "text": [
      "Request 取回之後該怎麼取出資料，資料型態是什麼？ =>\n",
      "<class 'str'>\n"
     ]
    }
   ],
   "source": [
    "print('Request 取回之後該怎麼取出資料，資料型態是什麼？ =>')\n",
    "\n",
    "response = r.text # 取出資料\n",
    "print(type(response))"
   ]
  },
  {
   "cell_type": "code",
   "execution_count": 8,
   "metadata": {},
   "outputs": [
    {
     "name": "stdout",
     "output_type": "stream",
     "text": [
      "為什麼要使用 BeatifulSoup 處理？處理後的型態是什麼？ => \n",
      "<class 'bs4.BeautifulSoup'>\n"
     ]
    }
   ],
   "source": [
    "print('為什麼要使用 BeatifulSoup 處理？處理後的型態是什麼？ => ')\n",
    "\n",
    "# BeautifulSoup 可以將 html 檔解析成容易提取資料的格式\n",
    "\n",
    "soup = BeautifulSoup(response, \"html\")\n",
    "print(type(soup))"
   ]
  },
  {
   "cell_type": "markdown",
   "metadata": {},
   "source": [
    "### 2. 知乎： https://www.zhihu.com/explore"
   ]
  },
  {
   "cell_type": "code",
   "execution_count": 9,
   "metadata": {},
   "outputs": [
    {
     "name": "stdout",
     "output_type": "stream",
     "text": [
      "<html>\r\n",
      "<head><title>403 Forbidden</title></head>\r\n",
      "<body bgcolor=\"white\">\r\n",
      "<center><h1>403 Forbidden</h1></center>\r\n",
      "<hr><center>openresty</center>\r\n",
      "</body>\r\n",
      "</html>\r\n",
      "\n"
     ]
    }
   ],
   "source": [
    "url = 'https://www.zhihu.com/explore'\n",
    "r = requests.get(url)\n",
    "r.encoding = 'utf-8'\n",
    "\n",
    "print(r.text[0:600])"
   ]
  },
  {
   "cell_type": "markdown",
   "metadata": {},
   "source": [
    "### 3. 觀察一下知乎回來的資料好像有點怪怪的，該怎麼解決？"
   ]
  },
  {
   "cell_type": "code",
   "execution_count": 11,
   "metadata": {},
   "outputs": [
    {
     "name": "stdout",
     "output_type": "stream",
     "text": [
      "<!doctype html>\n",
      "<html lang=\"zh\" data-hairline=\"true\" data-theme=\"light\"><head><meta charSet=\"utf-8\"/><title data-react-helmet=\"true\">发现 - 知乎</title><meta name=\"viewport\" content=\"width=device-width,initial-scale=1,maximum-scale=1\"/><meta name=\"renderer\" content=\"webkit\"/><meta name=\"force-rendering\" content=\"webkit\"/><meta http-equiv=\"X-UA-Compatible\" content=\"IE=edge,chrome=1\"/><meta name=\"google-site-verification\" content=\"FTeR0c8arOPKh8c5DYh_9uu98_zJbaWw53J-Sch9MTg\"/><meta name=\"description\" property=\"og:description\" content=\"知乎，中文互联网最大的问答社区和创作者聚集的原创内容平台，于 2011 年 1 月正式上线，以「让人们更好地分享知识、经验和见解，\n"
     ]
    }
   ],
   "source": [
    "import requests\n",
    "import random\n",
    "url = 'https://www.zhihu.com/explore'\n",
    "\n",
    "headers = {'user-agent':\n",
    "\"Mozilla/5.0 (Windows NT 6.3; WOW64) AppleWebKit/537.36 (KHTML, like Gecko) Chrome/39.0.2171.95 Safari/537.36\"}\n",
    "\n",
    "r = requests.get(url, headers=headers)\n",
    "\n",
    "r.encoding = 'utf-8'\n",
    "print(r.text[0:600])"
   ]
  },
  {
   "cell_type": "code",
   "execution_count": null,
   "metadata": {},
   "outputs": [],
   "source": []
  },
  {
   "cell_type": "code",
   "execution_count": null,
   "metadata": {},
   "outputs": [],
   "source": []
  }
 ],
 "metadata": {
  "kernelspec": {
   "display_name": "Python 3",
   "language": "python",
   "name": "python3"
  },
  "language_info": {
   "codemirror_mode": {
    "name": "ipython",
    "version": 3
   },
   "file_extension": ".py",
   "mimetype": "text/x-python",
   "name": "python",
   "nbconvert_exporter": "python",
   "pygments_lexer": "ipython3",
   "version": "3.8.5"
  }
 },
 "nbformat": 4,
 "nbformat_minor": 2
}
