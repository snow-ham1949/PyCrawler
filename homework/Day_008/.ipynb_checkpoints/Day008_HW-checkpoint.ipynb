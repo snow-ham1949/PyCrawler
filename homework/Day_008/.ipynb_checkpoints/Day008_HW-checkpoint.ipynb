{
 "cells": [
  {
   "cell_type": "markdown",
   "metadata": {},
   "source": [
    "# 靜態網頁的資料爬蟲策略\n",
    "\n",
    "\n",
    "* 了解靜態網頁的資料爬蟲策略\n",
    "* 認識適用於靜態網頁爬蟲的相關套件工具：Request\n",
    "* 認識適用於靜態網頁爬蟲的相關套件工具：BeatifulSoup"
   ]
  },
  {
   "cell_type": "markdown",
   "metadata": {},
   "source": [
    "## 作業目標\n",
    "\n",
    "利用 Request + BeatifulSoup 爬取下列兩個網站內容並解析：\n",
    "\n",
    "1. Dcared 網址： https://www.dcard.tw/f\n",
    "2. 知乎： https://www.zhihu.com/explore\n",
    "\n",
    "並且回答下面問題：\n",
    "\n",
    "1. Request 取回之後該怎麼取出資料，資料型態是什麼？\n",
    "2. 為什麼要使用 BeatifulSoup 處理？處理後的型態是什麼？\n",
    "3. 觀察一下知乎回來的資料好像有點怪怪的，該怎麼解決？"
   ]
  },
  {
   "cell_type": "markdown",
   "metadata": {},
   "source": [
    "### 1. Dcard 網址： https://www.dcard.tw/f"
   ]
  },
  {
   "cell_type": "code",
   "execution_count": 6,
   "metadata": {},
   "outputs": [],
   "source": [
    "import requests\n",
    "from bs4 import BeautifulSoup\n"
   ]
  },
  {
   "cell_type": "code",
   "execution_count": 2,
   "metadata": {},
   "outputs": [
    {
     "name": "stdout",
     "output_type": "stream",
     "text": [
      "<!DOCTYPE html>\n",
      "<!--[if lt IE 7]> <html class=\"no-js ie6 oldie\" lang=\"en-US\"> <![endif]-->\n",
      "<!--[if IE 7]>    <html class=\"no-js ie7 oldie\" lang=\"en-US\"> <![endif]-->\n",
      "<!--[if IE 8]>    <html class=\"no-js ie8 oldie\" lang=\"en-US\"> <![endif]-->\n",
      "<!--[if gt IE 8]><!--> <html class=\"no-js\" lang=\"en-US\"> <!--<![endif]-->\n",
      "<head>\n",
      "\n",
      "<title>Attention Required! | Cloudflare</title>\n",
      "\n",
      "<meta name=\"captcha-bypass\" id=\"captcha-bypass\" />\n",
      "<meta charset=\"UTF-8\" />\n",
      "<meta http-equiv=\"Content-Type\" content=\"text/html; charset=UTF-8\" />\n",
      "<meta http-equiv=\"X-UA-Compatible\" content=\"IE=Edge,chrome=1\" />\n",
      "<meta name=\"robots\" content=\"noindex, nofollow\" />\n",
      "<meta name=\"viewport\" content=\"width=device-width,initial-scale=1\" />\n",
      "<link rel=\"stylesheet\" id=\"cf_styles-css\" href=\"/cdn-cgi/styles/cf.errors.css\" type=\"text/css\" media=\"screen,projection\" />\n",
      "<!--[if lt IE 9]><link rel=\"stylesheet\" id='cf_styles-ie-css' href=\"/cdn-cgi/styles/cf.errors.ie.css\" type=\"text/css\" media=\"screen,projection\" /><![endif]-->\n",
      "<style type=\"text/css\">body{margin:0;padding:0}</style>\n",
      "\n",
      "\n",
      "<!--[if gte IE 10]><!-->\n",
      "<script>\n",
      "  if (!navigator.cookieEnabled) {\n",
      "    window.addEventListener('DOMContentLoaded', function () {\n",
      "      var cookieEl = document.getElementById('cookie-alert');\n",
      "      cookieEl.style.display = 'block';\n",
      "    })\n",
      "  }\n",
      "</script>\n",
      "<!--<![endif]-->\n",
      "\n",
      "\n",
      "  \n",
      "    <script type=\"text/javascript\">\n",
      "    //<![CDATA[\n",
      "    (function(){\n",
      "      window._cf_chl_opt={\n",
      "        cvId: \"2\",\n",
      "        cType: \"interactive\",\n",
      "        cNounce: \"9214\",\n",
      "        cRay: \"61f63694a8fef065\",\n",
      "        cHash: \"881f4654a74cab0\",\n",
      "        cFPWv: \"b\",\n",
      "        cLt: \"n\",\n",
      "        cRq: {\n",
      "          ru: \"aHR0cHM6Ly93d3cuZGNhcmQudHcvZg==\",\n",
      "          ra: \"cHl0aG9uLXJlcXVlc3RzLzIuMjQuMA==\",\n",
      "          rm: \"R0VU\",\n",
      "          d: \"nU5BFHMVnmWncS0SiOeXtpzIV7V17N590NKzzuLlO8zLt0osbPx13eSo+GX0y5GoRw1C0ogvMsEfDS1xJ7W3RNWgKxJY2+fQt8k6Tx5q0dtpGSphfonMSYN0Dy3O6pseXhefMjKQMcUv3vFx7ANu3RT+Xj0GaYBK0WIlfZ/rK1ZWiwlcyX0RoTvVy0Q2d1PjNNd6HMfWiee0Qok9nFVdEivUITq1uLMOSmr/uL864aS4dGqNiF/cgzIEM+3dLm722+f6QgTxaZAsYSUTlw9aaXwuxaycxj3L2wAYqIrc+26PG6rIZ9+RQawKQEuL0WY8p7za6KKf6whHAgSVLgSoo8DJ0mQZFbHRG5rT6rt+w3f/pmRUQxgRJT0YY0Ll0vo+ND6v77ex2OUri9A0HZWly/DZ1MSltvjuwG3DN90w3aBWIALqf4caP/csr/NjQ42Jow+AC7Dw/NPZHnoIfOQ67r9ZESKtmUlRIqQJA5dFdS9vLyKW9OfvJ/Ew0PZ9i4+zbRkvWcIVcu8bUTXlbRhg6MW2+uIm6De+ierL/xLFc78Rg6lG5h4GHpT+NzZ8rMyrPqD1j6VzZrSNhF/vjwGuly2GKkKu3PVx/f+zoSDcOICh2C5UTHRc0F05h1l94W0VfXaww6nU0w8khOuoas9tLvYVGMOzbiL71jBNnXs006wa4q3PlBIP9IiGiBRwAaiReZiwHtzeFnJPXPV0/kJr+Z36PyTzHv9m1vcmLI238AQRA1S0ZkAiFZFtJ9Y132prtLZ/ySx+R1qUTpNYRj/Lcd8Ij2s3Da2IcJ1o/ezdH7DoRvjR/NmHj4dfF6xaS8aO\",\n",
      "          t: \"MTYxMjk2NDEyNC45MDgwMDA=\",\n",
      "          m: \"qt8Q8YW0/r2CU6+m4pLR7CGNb8ay/QKE391y6KaVrvk=\",\n",
      "          i1: \"kCAw5nniF5X5sSK2+4rOug==\",\n",
      "          i2: \"xr319SBTEncd129BclaFVw==\",\n",
      "          uh: \"6AZv5/FBI8bCgQ115dPTZ5RPLfsmzGOqXp7x0al4Jbc=\",\n",
      "          hh: \"zRzOAigP6xcxnKf5snryJLVJgndZSARNtnIbgQqzl/Q=\",\n",
      "        }\n",
      "      };\n",
      "    }());\n",
      "    //]]>\n",
      "    </script>\n",
      "  \n",
      "\n",
      "<style type=\"text/css\">\n",
      "  #cf-wrapper #spinner {wid\n"
     ]
    }
   ],
   "source": [
    "import requests\n",
    "from bs4 import BeautifulSoup\n",
    "\n",
    "url = 'https://www.dcard.tw/f'\n",
    "\n",
    "r = requests.get(url)\n",
    "\n",
    "r.encoding = 'utf-8'\n",
    "print(r.text[0:3000])"
   ]
  },
  {
   "cell_type": "code",
   "execution_count": 8,
   "metadata": {},
   "outputs": [
    {
     "name": "stdout",
     "output_type": "stream",
     "text": [
      "Request 取回之後該怎麼取出資料，資料型態是什麼？ =>\n"
     ]
    },
    {
     "data": {
      "text/plain": [
       "'\\nYour Code Here\\n'"
      ]
     },
     "execution_count": 8,
     "metadata": {},
     "output_type": "execute_result"
    }
   ],
   "source": [
    "print('Request 取回之後該怎麼取出資料，資料型態是什麼？ =>')\n",
    "\n",
    "'''\n",
    "Your Code Here\n",
    "'''"
   ]
  },
  {
   "cell_type": "code",
   "execution_count": 9,
   "metadata": {},
   "outputs": [
    {
     "name": "stdout",
     "output_type": "stream",
     "text": [
      "為什麼要使用 BeatifulSoup 處理？處理後的型態是什麼？ => \n"
     ]
    },
    {
     "data": {
      "text/plain": [
       "'\\nYour Code Here\\n'"
      ]
     },
     "execution_count": 9,
     "metadata": {},
     "output_type": "execute_result"
    }
   ],
   "source": [
    "print('為什麼要使用 BeatifulSoup 處理？處理後的型態是什麼？ => ')\n",
    "\n",
    "'''\n",
    "Your Code Here\n",
    "'''"
   ]
  },
  {
   "cell_type": "markdown",
   "metadata": {},
   "source": [
    "### 2. 知乎： https://www.zhihu.com/explore"
   ]
  },
  {
   "cell_type": "code",
   "execution_count": 10,
   "metadata": {},
   "outputs": [
    {
     "name": "stdout",
     "output_type": "stream",
     "text": [
      "<html>\r\n",
      "<head><title>400 Bad Request</title></head>\r\n",
      "<body bgcolor=\"white\">\r\n",
      "<center><h1>400 Bad Request</h1></center>\r\n",
      "<hr><center>openresty</center>\r\n",
      "</body>\r\n",
      "</html>\r\n",
      "\n"
     ]
    }
   ],
   "source": [
    "url = 'https://www.zhihu.com/explore'\n",
    "r = requests.get(url)\n",
    "r.encoding = 'utf-8'\n",
    "\n",
    "print(r.text[0:600])"
   ]
  },
  {
   "cell_type": "markdown",
   "metadata": {},
   "source": [
    "### 3. 觀察一下知乎回來的資料好像有點怪怪的，該怎麼解決？"
   ]
  },
  {
   "cell_type": "code",
   "execution_count": 11,
   "metadata": {},
   "outputs": [
    {
     "name": "stdout",
     "output_type": "stream",
     "text": [
      "<html>\r\n",
      "<head><title>400 Bad Request</title></head>\r\n",
      "<body bgcolor=\"white\">\r\n",
      "<center><h1>400 Bad Request</h1></center>\r\n",
      "<hr><center>openresty</center>\r\n",
      "</body>\r\n",
      "</html>\r\n",
      "\n"
     ]
    }
   ],
   "source": [
    "import requests\n",
    "url = 'https://www.zhihu.com/explore'\n",
    "\n",
    "'''\n",
    "Your Code Here\n",
    "'''\n",
    "r = requests.get(url)\n",
    "\n",
    "r.encoding = 'utf-8'\n",
    "print(r.text[0:600])"
   ]
  },
  {
   "cell_type": "code",
   "execution_count": null,
   "metadata": {},
   "outputs": [],
   "source": []
  },
  {
   "cell_type": "code",
   "execution_count": null,
   "metadata": {},
   "outputs": [],
   "source": []
  }
 ],
 "metadata": {
  "kernelspec": {
   "display_name": "Python 3",
   "language": "python",
   "name": "python3"
  },
  "language_info": {
   "codemirror_mode": {
    "name": "ipython",
    "version": 3
   },
   "file_extension": ".py",
   "mimetype": "text/x-python",
   "name": "python",
   "nbconvert_exporter": "python",
   "pygments_lexer": "ipython3",
   "version": "3.8.5"
  }
 },
 "nbformat": 4,
 "nbformat_minor": 2
}
