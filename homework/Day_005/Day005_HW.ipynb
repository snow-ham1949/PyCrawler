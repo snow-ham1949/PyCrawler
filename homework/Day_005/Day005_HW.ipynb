{
 "cells": [
  {
   "cell_type": "markdown",
   "metadata": {},
   "source": [
    "# API 資料串接 - 以 Dcard API 實作範例\n",
    "\n",
    "* 了解 Dcard API 使用方式與回傳內容\n",
    "* 撰寫程式存取 API 且解析 JSON 格式資料\n"
   ]
  },
  {
   "cell_type": "markdown",
   "metadata": {},
   "source": [
    "## 作業目標\n",
    "\n",
    "* 請利用 API: https://www.dcard.tw/_api/forums/pet/posts?popular=true 回答下列問題：\n",
    "\n",
    "1. 這個 API 一次會回傳幾筆資料？每一筆資料包含哪些欄位？\n",
    "2. 取出每一筆資料的「標題」、「貼文時間」、「留言人數」、「按讚人數」\n",
    "3. 計算熱門/非熱門文章的「平均留言人數」與「平均按讚人數」"
   ]
  },
  {
   "cell_type": "code",
   "execution_count": 4,
   "metadata": {},
   "outputs": [
    {
     "name": "stdout",
     "output_type": "stream",
     "text": [
      "Requirement already satisfied: selenium in /home/administrator/anaconda3/lib/python3.8/site-packages (3.141.0)\n",
      "Requirement already satisfied: urllib3 in /home/administrator/anaconda3/lib/python3.8/site-packages (from selenium) (1.25.11)\n",
      "Note: you may need to restart the kernel to use updated packages.\n"
     ]
    }
   ],
   "source": [
    "pip install selenium"
   ]
  },
  {
   "cell_type": "code",
   "execution_count": 5,
   "metadata": {},
   "outputs": [
    {
     "data": {
      "text/plain": [
       "'/home/administrator/anaconda3/bin'"
      ]
     },
     "execution_count": 5,
     "metadata": {},
     "output_type": "execute_result"
    }
   ],
   "source": [
    "import os\n",
    "import sys\n",
    "os.path.dirname(sys.executable)"
   ]
  },
  {
   "cell_type": "code",
   "execution_count": 6,
   "metadata": {},
   "outputs": [
    {
     "name": "stdout",
     "output_type": "stream",
     "text": [
      "一次回傳 30 筆資料\n",
      "包含以下欄位\n",
      "id\n",
      "title\n",
      "excerpt\n",
      "anonymousSchool\n",
      "anonymousDepartment\n",
      "pinned\n",
      "forumId\n",
      "replyId\n",
      "createdAt\n",
      "updatedAt\n",
      "commentCount\n",
      "likeCount\n",
      "withNickname\n",
      "tags\n",
      "topics\n",
      "meta\n",
      "forumName\n",
      "forumAlias\n",
      "nsfw\n",
      "gender\n",
      "school\n",
      "department\n",
      "replyTitle\n",
      "mediaMeta\n",
      "reactions\n",
      "hidden\n",
      "customStyle\n",
      "isSuspiciousAccount\n",
      "isModerator\n",
      "layout\n",
      "spoilerAlert\n",
      "withImages\n",
      "withVideos\n",
      "media\n",
      "reportReasonText\n",
      "excerptComments\n",
      "postAvatar\n",
      "verifiedBadge\n"
     ]
    }
   ],
   "source": [
    "# 1. 這個 API 一次會回傳幾筆資料？每一筆資料包含哪些欄位？\n",
    "\n",
    "import requests\n",
    "import json\n",
    "from selenium import webdriver\n",
    "from selenium.webdriver.firefox.options import Options\n",
    "from bs4 import BeautifulSoup\n",
    "\n",
    "options = Options()\n",
    "url = 'https://www.dcard.tw/_api/forums/pet/posts?popular=true'\n",
    "\n",
    "driver = webdriver.Firefox(options = options)\n",
    "driver.get(url)\n",
    "soup = BeautifulSoup(driver.page_source, \"html\")\n",
    "Data_popular = json.loads(soup.text)\n",
    "\n",
    "driver.close()\n",
    "driver.quit()\n",
    "\n",
    "print('一次回傳 {0} 筆資料'.format(str(len(Data_popular))))\n",
    "print('包含以下欄位')\n",
    "for data_element in Data_popular[0]:\n",
    "    print(data_element)"
   ]
  },
  {
   "cell_type": "code",
   "execution_count": 7,
   "metadata": {},
   "outputs": [
    {
     "name": "stdout",
     "output_type": "stream",
     "text": [
      "標題： 當年的水溝小貓一歲了！  貼文時間： 2021-02-08T20:41:27.156Z  留言人數： 47  按讚人數： 1844\n",
      "標題： 牠不是不想吃飯-幫助生病老貓進食  貼文時間： 2021-02-09T06:15:06.190Z  留言人數： 11  按讚人數： 330\n",
      "標題： 這尾巴到底是誰的！  貼文時間： 2021-02-09T06:13:15.890Z  留言人數： 7  按讚人數： 128\n",
      "標題： 討厭貓的媽媽餵流浪貓了🥲  貼文時間： 2021-02-09T12:31:36.402Z  留言人數： 12  按讚人數： 124\n",
      "標題： 有人知道歐陽妮妮之前養的米克斯去哪了嗎  貼文時間： 2021-02-09T19:20:09.642Z  留言人數： 14  按讚人數： 93\n",
      "標題： 從0.4公斤到5.2公斤  貼文時間： 2021-02-09T01:56:46.050Z  留言人數： 4  按讚人數： 58\n",
      "標題： 養貓卻讓父母覺得不孝順  貼文時間： 2021-02-09T15:53:52.067Z  留言人數： 22  按讚人數： 50\n",
      "標題： 英短價錢  貼文時間： 2021-02-09T18:06:09.871Z  留言人數： 20  按讚人數： 20\n",
      "標題： 想問貓抓皮真的有用嗎  貼文時間： 2021-02-09T09:57:32.853Z  留言人數： 5  按讚人數： 16\n",
      "標題： 有沒有人也要帶寵物返鄉  貼文時間： 2021-02-10T01:27:51.459Z  留言人數： 2  按讚人數： 15\n",
      "標題： 說好拍證件照不露齒笑🐶  貼文時間： 2021-02-09T13:30:40.166Z  留言人數： 0  按讚人數： 14\n",
      "標題： #柴犬 曬女兒  貼文時間： 2021-02-09T01:35:45.508Z  留言人數： 2  按讚人數： 11\n",
      "標題： 你們有看過冬季小精靈嗎？  貼文時間： 2021-02-09T12:46:55.339Z  留言人數： 1  按讚人數： 8\n",
      "標題： 兩隻個性完全不同的小胖貓  貼文時間： 2021-02-09T18:52:41.112Z  留言人數： 0  按讚人數： 7\n",
      "標題： 你看過小鬍子貓貓嗎？  貼文時間： 2021-02-09T14:55:08.979Z  留言人數： 3  按讚人數： 7\n",
      "標題： 協尋 雲林北港 藍和尚鸚鵡 !!!  貼文時間： 2021-02-09T07:28:42.082Z  留言人數： 1  按讚人數： 7\n",
      "標題： 關於三隻，臉扁扁的貓咪  貼文時間： 2021-02-09T19:10:07.747Z  留言人數： 0  按讚人數： 6\n",
      "標題： 倉鼠會吃鼠廁砂  貼文時間： 2021-02-09T12:21:41.668Z  留言人數： 12  按讚人數： 6\n",
      "標題： 養第二隻貓咪佔地盤  貼文時間： 2021-02-09T00:10:37.572Z  留言人數： 2  按讚人數： 6\n",
      "標題： #貓 #這表情🤣🤣🤣🤣🤣  貼文時間： 2021-02-09T09:52:47.857Z  留言人數： 0  按讚人數： 5\n",
      "標題： 尼克跟Whiskey的日常😅  貼文時間： 2021-02-09T03:46:11.232Z  留言人數： 1  按讚人數： 5\n",
      "標題： 搭霸王車慣犯 不讓上車就跟著你  貼文時間： 2021-02-10T02:19:19.262Z  留言人數： 1  按讚人數： 4\n",
      "標題： 愛情見證貓  貼文時間： 2021-02-09T17:12:14.290Z  留言人數： 0  按讚人數： 4\n",
      "標題： 失去寵物的痛  貼文時間： 2021-02-09T13:23:18.229Z  留言人數： 0  按讚人數： 4\n",
      "標題： （急）蜜袋鼯專家請救救我  貼文時間： 2021-02-09T16:52:40.198Z  留言人數： 5  按讚人數： 3\n",
      "標題： 傻眼貓咪的怪怪日常🐈  貼文時間： 2021-02-09T06:08:31.223Z  留言人數： 0  按讚人數： 3\n",
      "標題： 爽到崩壞的貓  貼文時間： 2021-02-10T02:55:00.127Z  留言人數： 0  按讚人數： 2\n",
      "標題： 協尋 新北三重麒麟尾黑貓  貼文時間： 2021-02-09T22:16:30.014Z  留言人數： 0  按讚人數： 2\n",
      "標題： #文長圖多 麻糬長大後；以及新成員加入🐱  貼文時間： 2021-02-09T16:52:31.572Z  留言人數： 0  按讚人數： 2\n",
      "標題： 野貓弓起身追人  貼文時間： 2021-02-09T16:46:20.538Z  留言人數： 0  按讚人數： 2\n"
     ]
    }
   ],
   "source": [
    "# 2. 取出每一筆資料的「標題」、「貼文時間」、「留言人數」、「按讚人數」\n",
    "\n",
    "for data in Data_popular:\n",
    "    print('標題：', data['title'], ' 貼文時間：', data['createdAt'], ' 留言人數：', data['commentCount'], ' 按讚人數：', data['likeCount'])"
   ]
  },
  {
   "cell_type": "code",
   "execution_count": 8,
   "metadata": {},
   "outputs": [
    {
     "name": "stdout",
     "output_type": "stream",
     "text": [
      "熱門文章平均留言人數： 5.733333333333333 平均按讚人數： 92.86666666666666\n",
      "非熱門文章平均留言人數： 2.6666666666666665 平均按讚人數： 12.066666666666666\n"
     ]
    }
   ],
   "source": [
    "# 3. 計算熱門/非熱門文章的「平均留言人數」與「平均按讚人數」\n",
    "\n",
    "import requests\n",
    "import json\n",
    "from selenium import webdriver\n",
    "from selenium.webdriver.firefox.options import Options\n",
    "from bs4 import BeautifulSoup\n",
    "\n",
    "options = Options()\n",
    "driver = webdriver.Firefox(options = options)\n",
    "url = 'https://www.dcard.tw/_api/forums/pet/posts?popular=false'\n",
    "\n",
    "driver.get(url)\n",
    "soup = BeautifulSoup(driver.page_source, \"html\")\n",
    "Data_unpopular = json.loads(soup.text)\n",
    "\n",
    "driver.close()\n",
    "driver.quit()\n",
    "\n",
    "popular_num = len(Data_popular)\n",
    "unpopular_num = len(Data_unpopular)\n",
    "\n",
    "popular_comment_num = 0\n",
    "popular_like_num = 0\n",
    "unpopular_comment_num = 0\n",
    "unpopular_like_num = 0\n",
    "\n",
    "for data in Data_popular:\n",
    "    popular_comment_num += int(data['commentCount'])\n",
    "    popular_like_num += int(data['likeCount'])\n",
    "                    \n",
    "print('熱門文章平均留言人數：', popular_comment_num / popular_num, '平均按讚人數：', popular_like_num / popular_num)\n",
    "\n",
    "for data in Data_unpopular:\n",
    "    unpopular_comment_num += int(data['commentCount'])\n",
    "    unpopular_like_num += int(data['likeCount'])\n",
    "                    \n",
    "print('非熱門文章平均留言人數：', unpopular_comment_num / unpopular_num, '平均按讚人數：', unpopular_like_num / unpopular_num)"
   ]
  },
  {
   "cell_type": "code",
   "execution_count": null,
   "metadata": {},
   "outputs": [],
   "source": []
  },
  {
   "cell_type": "code",
   "execution_count": null,
   "metadata": {},
   "outputs": [],
   "source": []
  }
 ],
 "metadata": {
  "kernelspec": {
   "display_name": "Python 3",
   "language": "python",
   "name": "python3"
  },
  "language_info": {
   "codemirror_mode": {
    "name": "ipython",
    "version": 3
   },
   "file_extension": ".py",
   "mimetype": "text/x-python",
   "name": "python",
   "nbconvert_exporter": "python",
   "pygments_lexer": "ipython3",
   "version": "3.8.5"
  }
 },
 "nbformat": 4,
 "nbformat_minor": 2
}
