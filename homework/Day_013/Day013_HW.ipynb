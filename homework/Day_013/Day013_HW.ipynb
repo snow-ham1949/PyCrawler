{
 "cells": [
  {
   "cell_type": "markdown",
   "metadata": {},
   "source": [
    "# PTT 網路爬蟲實作練習\n",
    "\n",
    "\n",
    "* 能夠利用 Request + BeatifulSour 撰寫爬蟲，並存放到合適的資料結構\n"
   ]
  },
  {
   "cell_type": "markdown",
   "metadata": {},
   "source": [
    "## 作業目標\n",
    "\n",
    "根據範例 ，完成以下問題：\n",
    "\n",
    "* ① 印出最新文章的「作者」「標題」「時間」\n",
    "* ② 印出第一頁所有文章的「作者」「標題」「時間」\n"
   ]
  },
  {
   "cell_type": "markdown",
   "metadata": {},
   "source": [
    "### ① 印出最新文章的「作者」「標題」「時間」"
   ]
  },
  {
   "cell_type": "code",
   "execution_count": 34,
   "metadata": {},
   "outputs": [
    {
     "name": "stdout",
     "output_type": "stream",
     "text": [
      "作者: justgetup (Kono Dio Da!)\n",
      "標題: [情報] KL、PG: 必須更快解決比賽\n",
      "時間: Mon Mar  1 15:10:35 2021\n"
     ]
    }
   ],
   "source": [
    "import requests\n",
    "from bs4 import BeautifulSoup\n",
    "\n",
    "url = 'https://www.ptt.cc/bbs/NBA/index.html'\n",
    "r = requests.get(url)\n",
    "\n",
    "soup = BeautifulSoup(r.text, \"html5lib\")\n",
    "\n",
    "# print(soup.prettify())\n",
    "\n",
    "data = soup.find(class_=\"title\")\n",
    "\n",
    "url = 'https://www.ptt.cc' + data.find('a')['href']\n",
    "soup = BeautifulSoup(requests.get(url).text, \"html5lib\")\n",
    "\n",
    "# print(soup.prettify())\n",
    "\n",
    "for data in soup.find_all(class_=\"article-metaline\"):\n",
    "    print(data.find(class_=\"article-meta-tag\").text + ': ' + data.find(class_='article-meta-value').text)"
   ]
  },
  {
   "cell_type": "markdown",
   "metadata": {},
   "source": [
    "### ② 印出第一頁所有文章的「作者」「標題」「時間」"
   ]
  },
  {
   "cell_type": "code",
   "execution_count": 37,
   "metadata": {},
   "outputs": [
    {
     "name": "stdout",
     "output_type": "stream",
     "text": [
      "作者: justgetup (Kono Dio Da!)\n",
      "標題: [情報] KL、PG: 必須更快解決比賽\n",
      "時間: Mon Mar  1 15:10:35 2021\n",
      "\n",
      "作者: thnlkj0665 (灰色地帶)\n",
      "標題: [新聞] 禁區野獸再進化  威廉森主導擋拆收奇效\n",
      "時間: Mon Mar  1 15:20:30 2021\n",
      "\n",
      "作者: aalluubbaa ()\n",
      "標題: Re: [討論] 咖哩沒哨音是不是都市傳說阿？\n",
      "時間: Mon Mar  1 15:53:10 2021\n",
      "\n",
      "作者: go190214 (天空之島拉普達)\n",
      "標題: [新聞] 名球評要柯瑞效法喬丹　領導勇士安撫格林\n",
      "時間: Mon Mar  1 15:59:58 2021\n",
      "\n",
      "作者: sezna (sezna)\n",
      "標題: [情報] Rubio：不太相信76人的球隊體系，要培養\n",
      "時間: Mon Mar  1 16:06:56 2021\n",
      "\n",
      "作者: sodistrues (true)\n",
      "標題: [花邊]遭勇士逆轉記憶猶新 湖人將帥坦言這場\n",
      "時間: Mon Mar  1 16:12:15 2021\n",
      "\n",
      "作者: thnlkj0665 (灰色地帶)\n",
      "標題: [花邊] 年捐5千萬美元做公益 喬丹首登美富豪慈善榜\n",
      "時間: Mon Mar  1 18:55:37 2021\n",
      "\n",
      "\n",
      "\n",
      "\n",
      "作者: laptic (靜夜聖林彼岸花)\n",
      "標題: [情報] SEASON Schedule 賽程 February 20–21\n",
      "時間: Fri Jan 29 20:30:58 2021\n",
      "\n",
      "作者: laptic (靜夜聖林彼岸花)\n",
      "標題: [情報] SEASON Schedule 賽程 March 20–21\n",
      "時間: Fri Feb 26 14:58:29 2021\n",
      "\n"
     ]
    }
   ],
   "source": [
    "url = 'https://www.ptt.cc/bbs/NBA/index.html'\n",
    "\n",
    "soup = BeautifulSoup(requests.get(url).text, \"html5lib\")\n",
    "\n",
    "for data in soup.find_all(class_=\"title\"):\n",
    "    try:\n",
    "        url = 'https://www.ptt.cc/' + data.find('a')['href']\n",
    "        soup = BeautifulSoup(requests.get(url).text, \"html5lib\")\n",
    "        for item in soup.find_all(class_=\"article-metaline\"):\n",
    "            print(item.find(class_=\"article-meta-tag\").text + ': ' + item.find(class_='article-meta-value').text)\n",
    "        print()\n",
    "    except:\n",
    "        continue"
   ]
  },
  {
   "cell_type": "markdown",
   "metadata": {},
   "source": [
    "### ③ 試著爬爬看其他版的文章"
   ]
  },
  {
   "cell_type": "code",
   "execution_count": 38,
   "metadata": {},
   "outputs": [
    {
     "name": "stdout",
     "output_type": "stream",
     "text": [
      "作者: DanSu (丹叔)\n",
      "標題: [情報] 2021年3月之後台版柯南相關新書情報\n",
      "時間: Sat Feb 27 23:10:04 2021\n",
      "\n",
      "作者: Hengs (阿火)\n",
      "標題: 交換書籤\n",
      "時間: Sun Feb 28 14:34:22 2021\n",
      "\n",
      "作者: grandpa (阿公or爺爺)\n",
      "標題: [情報] 日本Netflix第一季上線（高畫質）\n",
      "時間: Mon Mar  1 09:59:19 2021\n",
      "\n",
      "\n",
      "作者: flora19flora (蟄伏)\n",
      "標題: [閒聊] 米花市置底閒聊區\n",
      "時間: Fri Oct 27 00:07:04 2017\n",
      "\n",
      "作者: flora19flora (蟄伏)\n",
      "標題: [公告] 名探偵コナン事務所 版規 (案件受理處)\n",
      "時間: Mon May  7 10:49:23 2018\n",
      "\n"
     ]
    }
   ],
   "source": [
    "board = 'Conan'\n",
    "\n",
    "url = 'https://www.ptt.cc/bbs/' + board + '/index.html'\n",
    "soup = BeautifulSoup(requests.get(url).text, \"html5lib\")\n",
    "\n",
    "for data in soup.find_all(class_=\"title\"):\n",
    "    try:\n",
    "        url = 'https://www.ptt.cc/' + data.find('a')['href']\n",
    "        soup = BeautifulSoup(requests.get(url).text, \"html5lib\")\n",
    "        for item in soup.find_all(class_=\"article-metaline\"):\n",
    "            print(item.find(class_=\"article-meta-tag\").text + ': ' + item.find(class_=\"article-meta-value\").text)\n",
    "        print()\n",
    "    except:\n",
    "        continue"
   ]
  },
  {
   "cell_type": "code",
   "execution_count": null,
   "metadata": {},
   "outputs": [],
   "source": []
  }
 ],
 "metadata": {
  "kernelspec": {
   "display_name": "Python 3",
   "language": "python",
   "name": "python3"
  },
  "language_info": {
   "codemirror_mode": {
    "name": "ipython",
    "version": 3
   },
   "file_extension": ".py",
   "mimetype": "text/x-python",
   "name": "python",
   "nbconvert_exporter": "python",
   "pygments_lexer": "ipython3",
   "version": "3.8.5"
  }
 },
 "nbformat": 4,
 "nbformat_minor": 2
}
